{
 "cells": [
  {
   "cell_type": "code",
   "execution_count": 36,
   "id": "5e3a69d3",
   "metadata": {},
   "outputs": [
    {
     "name": "stdout",
     "output_type": "stream",
     "text": [
      "1\n"
     ]
    }
   ],
   "source": [
    "L=\"101010101010101010101010l010101010101010101010101010\"\n",
    "print(L[8])"
   ]
  },
  {
   "cell_type": "code",
   "execution_count": 25,
   "id": "bf88c4bd",
   "metadata": {},
   "outputs": [
    {
     "name": "stdout",
     "output_type": "stream",
     "text": [
      "<class 'complex'>\n"
     ]
    }
   ],
   "source": [
    "print(type(10j))"
   ]
  },
  {
   "cell_type": "code",
   "execution_count": 27,
   "id": "0f71c1bb",
   "metadata": {},
   "outputs": [
    {
     "name": "stdout",
     "output_type": "stream",
     "text": [
      "<class 'str'>\n"
     ]
    }
   ],
   "source": [
    "print(type(\"LOL\"))"
   ]
  },
  {
   "cell_type": "code",
   "execution_count": 29,
   "id": "cd9e4348",
   "metadata": {},
   "outputs": [
    {
     "name": "stdout",
     "output_type": "stream",
     "text": [
      "<class 'int'>\n"
     ]
    }
   ],
   "source": [
    "print(type(8))"
   ]
  },
  {
   "cell_type": "code",
   "execution_count": 97,
   "id": "03ce7299",
   "metadata": {},
   "outputs": [
    {
     "name": "stdout",
     "output_type": "stream",
     "text": [
      "<class 'float'>\n"
     ]
    }
   ],
   "source": [
    "print(type(12.00))"
   ]
  },
  {
   "cell_type": "code",
   "execution_count": 98,
   "id": "8d6e70f2",
   "metadata": {},
   "outputs": [
    {
     "name": "stdout",
     "output_type": "stream",
     "text": [
      "True\n"
     ]
    }
   ],
   "source": [
    "print(\"1\" in L)"
   ]
  },
  {
   "cell_type": "code",
   "execution_count": 62,
   "id": "96fc3c8b",
   "metadata": {},
   "outputs": [
    {
     "name": "stdout",
     "output_type": "stream",
     "text": [
      "<class 'str'>\n"
     ]
    }
   ],
   "source": [
    "W=\"9012387546\"\n",
    "print(type(W))"
   ]
  },
  {
   "cell_type": "code",
   "execution_count": 64,
   "id": "fa93a641",
   "metadata": {},
   "outputs": [
    {
     "name": "stdout",
     "output_type": "stream",
     "text": [
      "101010101010\n",
      "12\n"
     ]
    }
   ],
   "source": [
    "L=\"101010101010\"\n",
    "print(L)\n",
    "print(len(L))"
   ]
  },
  {
   "cell_type": "code",
   "execution_count": 68,
   "id": "c9f0393d",
   "metadata": {},
   "outputs": [
    {
     "name": "stdout",
     "output_type": "stream",
     "text": [
      "\n",
      "None\n"
     ]
    }
   ],
   "source": [
    "print(print())"
   ]
  },
  {
   "cell_type": "code",
   "execution_count": 89,
   "id": "47f16505",
   "metadata": {},
   "outputs": [
    {
     "name": "stdout",
     "output_type": "stream",
     "text": [
      "Hi there. My name is Aakarsh Kumar. What is your  name?\n",
      "Arshu\n",
      "Hi Arshu\n"
     ]
    }
   ],
   "source": [
    "print(\"Hi there. My name is Aakarsh Kumar. What is your  name?\")\n",
    "print(\"Hi \"+input())"
   ]
  },
  {
   "cell_type": "code",
   "execution_count": 90,
   "id": "719c4088",
   "metadata": {},
   "outputs": [
    {
     "name": "stdout",
     "output_type": "stream",
     "text": [
      "What is your favorite number?\n",
      "8\n",
      "Ok 8\n"
     ]
    }
   ],
   "source": [
    "print(\"What is your favorite number?\")\n",
    "print(\"Ok \"+input())"
   ]
  },
  {
   "cell_type": "code",
   "execution_count": 92,
   "id": "188d4057",
   "metadata": {},
   "outputs": [
    {
     "name": "stdout",
     "output_type": "stream",
     "text": [
      "What is your favorite color?\n",
      "Blue\n",
      "Ok Blue\n"
     ]
    }
   ],
   "source": [
    "print(\"What is your favorite color?\")\n",
    "print(\"Ok \"+input())"
   ]
  },
  {
   "cell_type": "code",
   "execution_count": 93,
   "id": "bdb4014f",
   "metadata": {
    "scrolled": true
   },
   "outputs": [
    {
     "name": "stdout",
     "output_type": "stream",
     "text": [
      "What is your age?\n",
      "8\n",
      "Ok 8\n"
     ]
    }
   ],
   "source": [
    "print(\"What is your age?\")\n",
    "print(\"Ok \"+input())"
   ]
  },
  {
   "cell_type": "code",
   "execution_count": 94,
   "id": "d9b69b4a",
   "metadata": {},
   "outputs": [
    {
     "name": "stdout",
     "output_type": "stream",
     "text": [
      "What is your favorite animal?\n",
      "Wolves\n",
      "Your favorite animal is Wolves\n"
     ]
    }
   ],
   "source": [
    "print(\"What is your favorite animal?\")\n",
    "print(\"Your favorite animal is \"+input())"
   ]
  },
  {
   "cell_type": "code",
   "execution_count": 95,
   "id": "63cfe9af",
   "metadata": {},
   "outputs": [
    {
     "name": "stdout",
     "output_type": "stream",
     "text": [
      "What is your community's name?\n",
      "North Firethore\n",
      "Your community's name is North Firethore\n"
     ]
    }
   ],
   "source": [
    "print(\"What is your community's name?\")\n",
    "print(\"Your community's name is \"+input())"
   ]
  },
  {
   "cell_type": "code",
   "execution_count": 1,
   "id": "2b53b7f7",
   "metadata": {},
   "outputs": [
    {
     "name": "stdout",
     "output_type": "stream",
     "text": [
      "How many siblings do you have?\n",
      "1\n",
      "You have 1 sibling\n"
     ]
    }
   ],
   "source": [
    "print(\"How many siblings do you have?\")\n",
    "print(\"You have \"+input()+\" sibling\")"
   ]
  },
  {
   "cell_type": "code",
   "execution_count": null,
   "id": "8134e38f",
   "metadata": {},
   "outputs": [],
   "source": [
    "print(\"Which state \")"
   ]
  },
  {
   "cell_type": "code",
   "execution_count": 18,
   "id": "e225584f",
   "metadata": {},
   "outputs": [
    {
     "data": {
      "text/plain": [
       "['anshu', 'at', 'him', 'laughes', 'poop', 'stares', 'while']"
      ]
     },
     "execution_count": 18,
     "metadata": {},
     "output_type": "execute_result"
    }
   ],
   "source": [
    "#Question 2\n",
    "item=[\"poop\",\"laughes\",\"while\",\"anshu\",\"stares\",\"at\",\"him\"]\n",
    "#sort\n",
    "item.sort()\n",
    "item"
   ]
  },
  {
   "cell_type": "markdown",
   "id": "9c6074de",
   "metadata": {},
   "source": [
    "1.Appending adds elements to the end."
   ]
  },
  {
   "cell_type": "markdown",
   "id": "a01286b6",
   "metadata": {},
   "source": [
    "1.However, exending adds an entire list."
   ]
  },
  {
   "cell_type": "code",
   "execution_count": 22,
   "id": "3eff40e3",
   "metadata": {},
   "outputs": [
    {
     "name": "stdout",
     "output_type": "stream",
     "text": [
      "['1', '2', '3', '4']\n"
     ]
    }
   ],
   "source": [
    "#Question 4\n",
    "a=[\"1\",\"2\"]\n",
    "b=[\"3\",\"4\"]\n",
    "c=a+b\n",
    "print(c)"
   ]
  },
  {
   "cell_type": "code",
   "execution_count": 21,
   "id": "df4143d1",
   "metadata": {},
   "outputs": [
    {
     "name": "stdout",
     "output_type": "stream",
     "text": [
      "anshu\n",
      "at\n",
      "him\n",
      "laughes\n",
      "poop\n",
      "stares\n",
      "while\n"
     ]
    }
   ],
   "source": [
    "#Question 5\n",
    "for i in item:\n",
    "    print(i)"
   ]
  }
 ],
 "metadata": {
  "kernelspec": {
   "display_name": "Python 3",
   "language": "python",
   "name": "python3"
  },
  "language_info": {
   "codemirror_mode": {
    "name": "ipython",
    "version": 3
   },
   "file_extension": ".py",
   "mimetype": "text/x-python",
   "name": "python",
   "nbconvert_exporter": "python",
   "pygments_lexer": "ipython3",
   "version": "3.8.8"
  }
 },
 "nbformat": 4,
 "nbformat_minor": 5
}
